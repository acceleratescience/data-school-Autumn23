{
 "cells": [
  {
   "cell_type": "markdown",
   "metadata": {},
   "source": [
    "# Profiling\n",
    "\n",
    "In this lab we will go through how to quickly profile and optimize some code. This lab should have the following file structure:\n",
    "\n",
    "```bash\n",
    "Lab 3\n",
    "├── profiling.ipynb\n",
    "├── requirements.txt\n",
    "├── data\n",
    "    ├── B_mat.npy\n",
    "    ├── C_mat.npy\n",
    "    └── cat.mat\n",
    "├── small_world_propensity\n",
    "    ├── __init__.py\n",
    "    └── small_world_propensity.py\n",
    "└── tests\n",
    "    ├── __init__.py\n",
    "    └── test_small_world.py\n",
    "```"
   ]
  },
  {
   "cell_type": "markdown",
   "metadata": {},
   "source": [
    "The code is simply a small library that takes a connectivity matrix, and calculates how small-world the associated graph is.\n",
    "\n",
    "Along the way, it must calculate things like degree, clustering, and path lengths. Let's just run it on some test data to begin with. Create a virtual environment and install the requirements."
   ]
  },
  {
   "cell_type": "code",
   "execution_count": 1,
   "metadata": {},
   "outputs": [],
   "source": [
    "import small_world_propensity as swp\n",
    "\n",
    "import scipy.io as sio\n",
    "import numpy as np"
   ]
  },
  {
   "cell_type": "code",
   "execution_count": 2,
   "metadata": {},
   "outputs": [
    {
     "data": {
      "text/plain": [
       "(52, 52)"
      ]
     },
     "execution_count": 2,
     "metadata": {},
     "output_type": "execute_result"
    }
   ],
   "source": [
    "cat = sio.loadmat('data/cat.mat')['CIJctx']\n",
    "cat.shape"
   ]
  },
  {
   "cell_type": "markdown",
   "metadata": {},
   "source": [
    "This is a connectivity matrix representing functional connectivity between 52 regions in a cat brain. As far as I am aware, the cat was not harmed while collecting this data."
   ]
  },
  {
   "cell_type": "code",
   "execution_count": 3,
   "metadata": {},
   "outputs": [
    {
     "data": {
      "text/html": [
       "<div>\n",
       "<style scoped>\n",
       "    .dataframe tbody tr th:only-of-type {\n",
       "        vertical-align: middle;\n",
       "    }\n",
       "\n",
       "    .dataframe tbody tr th {\n",
       "        vertical-align: top;\n",
       "    }\n",
       "\n",
       "    .dataframe thead th {\n",
       "        text-align: right;\n",
       "    }\n",
       "</style>\n",
       "<table border=\"1\" class=\"dataframe\">\n",
       "  <thead>\n",
       "    <tr style=\"text-align: right;\">\n",
       "      <th></th>\n",
       "      <th>Network C</th>\n",
       "      <th>Network L</th>\n",
       "      <th>ΔC</th>\n",
       "      <th>ΔL</th>\n",
       "      <th>SWP</th>\n",
       "      <th>α</th>\n",
       "      <th>δ</th>\n",
       "      <th>Regular C</th>\n",
       "      <th>Random C</th>\n",
       "      <th>Regular L</th>\n",
       "      <th>Random L</th>\n",
       "    </tr>\n",
       "  </thead>\n",
       "  <tbody>\n",
       "    <tr>\n",
       "      <th>0</th>\n",
       "      <td>0.270482</td>\n",
       "      <td>3.566516</td>\n",
       "      <td>0.169904</td>\n",
       "      <td>0.251567</td>\n",
       "      <td>0.785345</td>\n",
       "      <td>0.976783</td>\n",
       "      <td>0.243679</td>\n",
       "      <td>0.296984</td>\n",
       "      <td>0.141</td>\n",
       "      <td>5.889819</td>\n",
       "      <td>2.785596</td>\n",
       "    </tr>\n",
       "  </tbody>\n",
       "</table>\n",
       "</div>"
      ],
      "text/plain": [
       "   Network C  Network L        ΔC        ΔL       SWP         α         δ  \\\n",
       "0   0.270482   3.566516  0.169904  0.251567  0.785345  0.976783  0.243679   \n",
       "\n",
       "   Regular C  Random C  Regular L  Random L  \n",
       "0   0.296984     0.141   5.889819  2.785596  "
      ]
     },
     "execution_count": 3,
     "metadata": {},
     "output_type": "execute_result"
    }
   ],
   "source": [
    "np.random.seed(1337)\n",
    "\n",
    "swp.small_world_propensity(cat)"
   ]
  },
  {
   "cell_type": "markdown",
   "metadata": {},
   "source": [
    "OK, so that was super fast. Now lets load in a connectivity matrix representing connections in a resistive switching array."
   ]
  },
  {
   "cell_type": "code",
   "execution_count": 4,
   "metadata": {},
   "outputs": [
    {
     "data": {
      "text/plain": [
       "(805, 805)"
      ]
     },
     "execution_count": 4,
     "metadata": {},
     "output_type": "execute_result"
    }
   ],
   "source": [
    "C = np.load('data/C_mat.npy')\n",
    "C.shape"
   ]
  },
  {
   "cell_type": "markdown",
   "metadata": {},
   "source": [
    "So this is quite a bit bigger! Let's see how it runs..."
   ]
  },
  {
   "cell_type": "code",
   "execution_count": 5,
   "metadata": {},
   "outputs": [
    {
     "data": {
      "text/html": [
       "<div>\n",
       "<style scoped>\n",
       "    .dataframe tbody tr th:only-of-type {\n",
       "        vertical-align: middle;\n",
       "    }\n",
       "\n",
       "    .dataframe tbody tr th {\n",
       "        vertical-align: top;\n",
       "    }\n",
       "\n",
       "    .dataframe thead th {\n",
       "        text-align: right;\n",
       "    }\n",
       "</style>\n",
       "<table border=\"1\" class=\"dataframe\">\n",
       "  <thead>\n",
       "    <tr style=\"text-align: right;\">\n",
       "      <th></th>\n",
       "      <th>Network C</th>\n",
       "      <th>Network L</th>\n",
       "      <th>ΔC</th>\n",
       "      <th>ΔL</th>\n",
       "      <th>SWP</th>\n",
       "      <th>α</th>\n",
       "      <th>δ</th>\n",
       "      <th>Regular C</th>\n",
       "      <th>Random C</th>\n",
       "      <th>Regular L</th>\n",
       "      <th>Random L</th>\n",
       "    </tr>\n",
       "  </thead>\n",
       "  <tbody>\n",
       "    <tr>\n",
       "      <th>0</th>\n",
       "      <td>0.042583</td>\n",
       "      <td>11.987697</td>\n",
       "      <td>0.0</td>\n",
       "      <td>0.232254</td>\n",
       "      <td>0.835772</td>\n",
       "      <td>1.570796</td>\n",
       "      <td>1.0</td>\n",
       "      <td>0.04078</td>\n",
       "      <td>0.039689</td>\n",
       "      <td>26.247016</td>\n",
       "      <td>7.67405</td>\n",
       "    </tr>\n",
       "  </tbody>\n",
       "</table>\n",
       "</div>"
      ],
      "text/plain": [
       "   Network C  Network L   ΔC        ΔL       SWP         α    δ  Regular C  \\\n",
       "0   0.042583  11.987697  0.0  0.232254  0.835772  1.570796  1.0    0.04078   \n",
       "\n",
       "   Random C  Regular L  Random L  \n",
       "0  0.039689  26.247016   7.67405  "
      ]
     },
     "execution_count": 5,
     "metadata": {},
     "output_type": "execute_result"
    }
   ],
   "source": [
    "np.random.seed(1337)\n",
    "\n",
    "swp.small_world_propensity(C)"
   ]
  },
  {
   "cell_type": "markdown",
   "metadata": {},
   "source": [
    "12s might not seem a lot, but suppose you want to generate some data on how SWP changes with size. In order to do this, you'll want to try a range of size, say 5,000. And since SWP contains an element of stochasticity, you'll need to run each network to get a mean and variance, so maybe 100 different instances. That's 500,000 runs.\n",
    "\n",
    "It's going to take you well over 1,500 hours to run all of these networks! That's preposterous. If you have an 8 core processor you can cut this down to 200 hours (or about 8 days), with parallization. Assuming you don't mind thrashing your Macbook Pro M1..."
   ]
  },
  {
   "cell_type": "markdown",
   "metadata": {},
   "source": [
    "## cProfile\n",
    "Let's use cProfile and try and find where we are spending time. `cat` is too small and `C` is too big, so we try an intermediate network instead."
   ]
  },
  {
   "cell_type": "code",
   "execution_count": 8,
   "metadata": {},
   "outputs": [],
   "source": [
    "import cProfile"
   ]
  },
  {
   "cell_type": "code",
   "execution_count": 6,
   "metadata": {},
   "outputs": [
    {
     "data": {
      "text/plain": [
       "(361, 361)"
      ]
     },
     "execution_count": 6,
     "metadata": {},
     "output_type": "execute_result"
    }
   ],
   "source": [
    "B = np.load('data/B_mat.npy')\n",
    "B.shape"
   ]
  },
  {
   "cell_type": "code",
   "execution_count": 9,
   "metadata": {},
   "outputs": [
    {
     "name": "stdout",
     "output_type": "stream",
     "text": [
      "         433921 function calls (433898 primitive calls) in 1.417 seconds\n",
      "\n",
      "   Ordered by: cumulative time\n",
      "\n",
      "   ncalls  tottime  percall  cumtime  percall filename:lineno(function)\n",
      "        1    0.000    0.000    1.417    1.417 {built-in method builtins.exec}\n",
      "        1    0.000    0.000    1.417    1.417 <string>:1(<module>)\n",
      "        1    0.000    0.000    1.417    1.417 small_world_propensity.py:15(small_world_propensity)\n",
      "        1    0.002    0.002    1.417    1.417 small_world_propensity.py:40(_small_world_propensity)\n",
      "        3    0.003    0.001    0.698    0.233 small_world_propensity.py:146(get_average_paths)\n",
      "        3    0.679    0.226    0.679    0.226 {method 'average_path_length' of 'igraph._igraph.GraphBase' objects}\n",
      "        1    0.127    0.127    0.669    0.669 small_world_propensity.py:201(regular_matrix_generator)\n",
      "   429440    0.532    0.000    0.532    0.000 {method 'randint' of 'numpy.random.mtrand.RandomState' objects}\n",
      "        3    0.004    0.001    0.025    0.008 small_world_propensity.py:161(get_clustering_coefficient)\n",
      "        1    0.020    0.020    0.022    0.022 small_world_propensity.py:171(randomize_matrix)\n",
      "        3    0.020    0.007    0.020    0.007 linalg.py:569(matrix_power)\n",
      "        3    0.001    0.000    0.012    0.004 adjacency.py:74(_construct_graph_from_weighted_adjacency)\n",
      "        3    0.010    0.003    0.010    0.003 {built-in method _Weighted_Adjacency}\n",
      "        1    0.000    0.000    0.006    0.006 fromnumeric.py:865(sort)\n",
      "        1    0.006    0.006    0.006    0.006 {method 'sort' of 'numpy.ndarray' objects}\n",
      "        3    0.004    0.001    0.004    0.001 {method 'tolist' of 'numpy.ndarray' objects}\n",
      "     1664    0.003    0.000    0.003    0.000 {method 'nonzero' of 'numpy.ndarray' objects}\n",
      "        1    0.000    0.000    0.002    0.002 numeric.py:2170(allclose)\n",
      "        1    0.000    0.000    0.002    0.002 numeric.py:2249(isclose)\n",
      "        1    0.001    0.001    0.001    0.001 numeric.py:2330(within_tol)\n",
      "        1    0.001    0.001    0.001    0.001 small_world_propensity.py:128(get_avg_rad_eff)\n",
      "        1    0.000    0.000    0.001    0.001 fromnumeric.py:1881(nonzero)\n",
      "        1    0.000    0.000    0.001    0.001 fromnumeric.py:53(_wrapfunc)\n",
      "        1    0.001    0.001    0.001    0.001 {method 'choice' of 'numpy.random.mtrand.RandomState' objects}\n",
      "        2    0.000    0.000    0.000    0.000 twodim_base.py:485(triu)\n",
      "        1    0.000    0.000    0.000    0.000 frame.py:668(__init__)\n",
      "        1    0.000    0.000    0.000    0.000 construction.py:423(dict_to_mgr)\n",
      "        2    0.000    0.000    0.000    0.000 {built-in method builtins.abs}\n",
      "       14    0.000    0.000    0.000    0.000 {method 'reduce' of 'numpy.ufunc' objects}\n",
      "        1    0.000    0.000    0.000    0.000 construction.py:96(arrays_to_mgr)\n",
      "        5    0.000    0.000    0.000    0.000 {built-in method numpy.zeros}\n",
      "        2    0.000    0.000    0.000    0.000 twodim_base.py:366(tri)\n",
      "        1    0.000    0.000    0.000    0.000 shape_base.py:612(column_stack)\n",
      "       13    0.000    0.000    0.000    0.000 construction.py:518(sanitize_array)\n",
      "        1    0.000    0.000    0.000    0.000 {method 'flatten' of 'numpy.ndarray' objects}\n",
      "        2    0.000    0.000    0.000    0.000 base.py:477(__new__)\n",
      "        2    0.000    0.000    0.000    0.000 {method 'outer' of 'numpy.ufunc' objects}\n",
      "        1    0.000    0.000    0.000    0.000 numeric.py:136(ones)\n",
      "        1    0.000    0.000    0.000    0.000 construction.py:596(_homogenize)\n",
      "        5    0.000    0.000    0.000    0.000 fromnumeric.py:71(_wrapreduction)\n",
      "1746/1723    0.000    0.000    0.000    0.000 {built-in method builtins.len}\n",
      "        3    0.000    0.000    0.000    0.000 {method 'sum' of 'numpy.ndarray' objects}\n",
      "        3    0.000    0.000    0.000    0.000 fromnumeric.py:2421(all)\n",
      "        3    0.000    0.000    0.000    0.000 _methods.py:47(_sum)\n",
      "        3    0.000    0.000    0.000    0.000 __init__.py:349(__init__)\n",
      "        3    0.000    0.000    0.000    0.000 {method 'mean' of 'numpy.ndarray' objects}\n",
      "      279    0.000    0.000    0.000    0.000 {built-in method builtins.isinstance}\n",
      "       11    0.000    0.000    0.000    0.000 cast.py:1483(construct_1d_arraylike_from_scalar)\n",
      "        3    0.000    0.000    0.000    0.000 _methods.py:101(_mean)\n",
      "        3    0.000    0.000    0.000    0.000 {method 'max' of 'numpy.ndarray' objects}\n",
      "        1    0.000    0.000    0.000    0.000 {method 'copy' of 'numpy.ndarray' objects}\n",
      "        3    0.000    0.000    0.000    0.000 _methods.py:39(_amax)\n",
      "        1    0.000    0.000    0.000    0.000 managers.py:2068(create_block_manager_from_column_arrays)\n",
      "        2    0.000    0.000    0.000    0.000 cast.py:119(maybe_convert_platform)\n",
      "        2    0.000    0.000    0.000    0.000 base.py:7512(ensure_index)\n",
      "        1    0.000    0.000    0.000    0.000 managers.py:2137(_form_blocks)\n",
      "       11    0.000    0.000    0.000    0.000 cast.py:774(infer_dtype_from_scalar)\n",
      "        3    0.000    0.000    0.000    0.000 {pandas._libs.lib.maybe_convert_objects}\n",
      "        3    0.000    0.000    0.000    0.000 fromnumeric.py:1565(diagonal)\n",
      "        1    0.000    0.000    0.000    0.000 config.py:271(__call__)\n",
      "        1    0.000    0.000    0.000    0.000 fromnumeric.py:2692(max)\n",
      "        2    0.000    0.000    0.000    0.000 _ufunc_config.py:33(seterr)\n",
      "        1    0.000    0.000    0.000    0.000 config.py:145(_get_option)\n",
      "        3    0.000    0.000    0.000    0.000 _methods.py:67(_count_reduce_items)\n",
      "        1    0.000    0.000    0.000    0.000 fromnumeric.py:2979(prod)\n",
      "        1    0.000    0.000    0.000    0.000 construction.py:481(<listcomp>)\n",
      "        9    0.000    0.000    0.000    0.000 <frozen importlib._bootstrap>:1033(_handle_fromlist)\n",
      "       31    0.000    0.000    0.000    0.000 generic.py:42(_instancecheck)\n",
      "        4    0.000    0.000    0.000    0.000 twodim_base.py:33(_min_int)\n",
      "       11    0.000    0.000    0.000    0.000 common.py:296(maybe_iterable_to_list)\n",
      "        3    0.000    0.000    0.000    0.000 numeric.py:274(full)\n",
      "       18    0.000    0.000    0.000    0.000 {built-in method numpy.empty}\n",
      "        1    0.000    0.000    0.000    0.000 _ufunc_config.py:430(__enter__)\n",
      "        2    0.000    0.000    0.000    0.000 base.py:648(_simple_new)\n",
      "        1    0.000    0.000    0.000    0.000 construction.py:487(<listcomp>)\n",
      "        1    0.000    0.000    0.000    0.000 contextlib.py:123(__exit__)\n",
      "        2    0.000    0.000    0.000    0.000 {built-in method builtins.next}\n",
      "        4    0.000    0.000    0.000    0.000 {built-in method numpy.arange}\n",
      "        1    0.000    0.000    0.000    0.000 _ufunc_config.py:435(__exit__)\n",
      "        2    0.000    0.000    0.000    0.000 cast.py:1544(construct_1d_object_array_from_listlike)\n",
      "        1    0.000    0.000    0.000    0.000 cast.py:1147(maybe_infer_to_datetimelike)\n",
      "        2    0.000    0.000    0.000    0.000 base.py:7607(maybe_extract_name)\n",
      "        2    0.000    0.000    0.000    0.000 _ufunc_config.py:452(_no_nep50_warning)\n",
      "        1    0.000    0.000    0.000    0.000 config.py:127(_get_single_key)\n",
      "       31    0.000    0.000    0.000    0.000 generic.py:37(_check)\n",
      "        3    0.000    0.000    0.000    0.000 __init__.py:590(es)\n",
      "        1    0.000    0.000    0.000    0.000 managers.py:2194(_stack_arrays)\n",
      "        3    0.000    0.000    0.000    0.000 {method 'diagonal' of 'numpy.ndarray' objects}\n",
      "        1    0.000    0.000    0.000    0.000 _asarray.py:27(require)\n",
      "       20    0.000    0.000    0.000    0.000 {built-in method builtins.hasattr}\n",
      "        1    0.000    0.000    0.000    0.000 config.py:633(_get_root)\n",
      "       11    0.000    0.000    0.000    0.000 common.py:556(require_length_match)\n",
      "        2    0.000    0.000    0.000    0.000 _ufunc_config.py:132(geterr)\n",
      "       51    0.000    0.000    0.000    0.000 {built-in method builtins.getattr}\n",
      "        2    0.000    0.000    0.000    0.000 base.py:591(_dtype_to_subclass)\n",
      "        1    0.000    0.000    0.000    0.000 generic.py:274(__init__)\n",
      "       11    0.000    0.000    0.000    0.000 abc.py:117(__instancecheck__)\n",
      "        8    0.000    0.000    0.000    0.000 getlimits.py:709(max)\n",
      "        1    0.000    0.000    0.000    0.000 {method 'reshape' of 'numpy.ndarray' objects}\n",
      "        1    0.000    0.000    0.000    0.000 contextlib.py:261(helper)\n",
      "       17    0.000    0.000    0.000    0.000 {built-in method numpy.asanyarray}\n",
      "       15    0.000    0.000    0.000    0.000 {pandas._libs.lib.is_list_like}\n",
      "       11    0.000    0.000    0.000    0.000 managers.py:2124(_grouping_func)\n",
      "        1    0.000    0.000    0.000    0.000 contextlib.py:114(__enter__)\n",
      "       23    0.000    0.000    0.000    0.000 base.py:908(__len__)\n",
      "        1    0.000    0.000    0.000    0.000 common.py:1066(is_numeric_dtype)\n",
      "       13    0.000    0.000    0.000    0.000 construction.py:419(extract_array)\n",
      "        3    0.000    0.000    0.000    0.000 linalg.py:209(_assert_stacked_square)\n",
      "        1    0.000    0.000    0.000    0.000 shape_base.py:608(_column_stack_dispatcher)\n",
      "        1    0.000    0.000    0.000    0.000 config.py:686(_warn_if_deprecated)\n",
      "        1    0.000    0.000    0.000    0.000 managers.py:1744(_consolidate_inplace)\n",
      "        4    0.000    0.000    0.000    0.000 common.py:1322(is_ea_or_datetimelike_dtype)\n",
      "        1    0.000    0.000    0.000    0.000 contextlib.py:86(__init__)\n",
      "        5    0.000    0.000    0.000    0.000 fromnumeric.py:72(<dictcomp>)\n",
      "        2    0.000    0.000    0.000    0.000 config.py:647(_get_deprecated_option)\n",
      "       11    0.000    0.000    0.000    0.000 {built-in method pandas._libs.lib.is_interval}\n",
      "        4    0.000    0.000    0.000    0.000 getlimits.py:696(min)\n",
      "       11    0.000    0.000    0.000    0.000 {method 'fill' of 'numpy.ndarray' objects}\n",
      "        1    0.000    0.000    0.000    0.000 shape_base.py:207(_arrays_for_stack_dispatcher)\n",
      "        3    0.000    0.000    0.000    0.000 {method 'difference_update' of 'set' objects}\n",
      "        1    0.000    0.000    0.000    0.000 managers.py:1726(is_consolidated)\n",
      "        2    0.000    0.000    0.000    0.000 {built-in method numpy.seterrobj}\n",
      "       11    0.000    0.000    0.000    0.000 {built-in method _abc._abc_instancecheck}\n",
      "        3    0.000    0.000    0.000    0.000 {built-in method numpy.array}\n",
      "        2    0.000    0.000    0.000    0.000 construction.py:712(_sanitize_str_dtypes)\n",
      "        1    0.000    0.000    0.000    0.000 common.py:1425(_is_dtype_type)\n",
      "        1    0.000    0.000    0.000    0.000 _asarray.py:108(<setcomp>)\n",
      "       25    0.000    0.000    0.000    0.000 {method 'append' of 'list' objects}\n",
      "        3    0.000    0.000    0.000    0.000 linalg.py:203(_assert_stacked_2d)\n",
      "        2    0.000    0.000    0.000    0.000 {method 'add_index_reference' of 'pandas._libs.internals.BlockValuesRefs' objects}\n",
      "       11    0.000    0.000    0.000    0.000 common.py:1255(is_1d_only_ea_dtype)\n",
      "       12    0.000    0.000    0.000    0.000 {built-in method builtins.issubclass}\n",
      "        3    0.000    0.000    0.000    0.000 {built-in method numpy.asarray}\n",
      "        2    0.000    0.000    0.000    0.000 construction.py:484(ensure_wrapped_if_datetimelike)\n",
      "        2    0.000    0.000    0.000    0.000 inference.py:334(is_hashable)\n",
      "        2    0.000    0.000    0.000    0.000 base.py:573(_ensure_array)\n",
      "       15    0.000    0.000    0.000    0.000 {pandas._libs.lib.is_np_dtype}\n",
      "        1    0.000    0.000    0.000    0.000 {method 'reset' of 'ContextVar' objects}\n",
      "        4    0.000    0.000    0.000    0.000 {method 'keys' of 'dict' objects}\n",
      "        2    0.000    0.000    0.000    0.000 construction.py:673(_sanitize_ndim)\n",
      "        2    0.000    0.000    0.000    0.000 {method 'astype' of 'numpy.ndarray' objects}\n",
      "        9    0.000    0.000    0.000    0.000 multiarray.py:346(where)\n",
      "       14    0.000    0.000    0.000    0.000 {method 'items' of 'dict' objects}\n",
      "        1    0.000    0.000    0.000    0.000 {method 'split' of 'str' objects}\n",
      "        1    0.000    0.000    0.000    0.000 flags.py:53(__init__)\n",
      "       11    0.000    0.000    0.000    0.000 {pandas._libs.lib.is_integer}\n",
      "        1    0.000    0.000    0.000    0.000 blocks.py:2346(get_block_type)\n",
      "        1    0.000    0.000    0.000    0.000 _ufunc_config.py:426(__init__)\n",
      "        3    0.000    0.000    0.000    0.000 fromnumeric.py:1561(_diagonal_dispatcher)\n",
      "        1    0.000    0.000    0.000    0.000 common.py:131(<lambda>)\n",
      "       11    0.000    0.000    0.000    0.000 {pandas._libs.lib.is_bool}\n",
      "       11    0.000    0.000    0.000    0.000 {pandas._libs.lib.is_period}\n",
      "       16    0.000    0.000    0.000    0.000 typing.py:1375(cast)\n",
      "        1    0.000    0.000    0.000    0.000 {pandas._libs.lib.is_all_arraylike}\n",
      "        1    0.000    0.000    0.000    0.000 managers.py:1734(_consolidate_check)\n",
      "        4    0.000    0.000    0.000    0.000 {built-in method numpy.geterrobj}\n",
      "       11    0.000    0.000    0.000    0.000 {pandas._libs.lib.is_float}\n",
      "        1    0.000    0.000    0.000    0.000 {built-in method builtins.all}\n",
      "        1    0.000    0.000    0.000    0.000 {method 'set' of 'ContextVar' objects}\n",
      "        3    0.000    0.000    0.000    0.000 {method 'pop' of 'dict' objects}\n",
      "        3    0.000    0.000    0.000    0.000 {built-in method numpy.core._multiarray_umath.normalize_axis_index}\n",
      "        2    0.000    0.000    0.000    0.000 construction.py:665(_sanitize_non_ordered)\n",
      "        2    0.000    0.000    0.000    0.000 base.py:830(_reset_identity)\n",
      "        4    0.000    0.000    0.000    0.000 multiarray.py:1080(copyto)\n",
      "        1    0.000    0.000    0.000    0.000 config.py:615(_select_options)\n",
      "        1    0.000    0.000    0.000    0.000 __init__.py:43(using_pyarrow_string_dtype)\n",
      "        3    0.000    0.000    0.000    0.000 fromnumeric.py:2416(_all_dispatcher)\n",
      "        2    0.000    0.000    0.000    0.000 {pandas._libs.lib.is_scalar}\n",
      "        1    0.000    0.000    0.000    0.000 config.py:674(_translate_key)\n",
      "        2    0.000    0.000    0.000    0.000 {built-in method __new__ of type object at 0x10516e880}\n",
      "        2    0.000    0.000    0.000    0.000 base.py:538(<genexpr>)\n",
      "        3    0.000    0.000    0.000    0.000 {built-in method _operator.index}\n",
      "        1    0.000    0.000    0.000    0.000 fromnumeric.py:2687(_max_dispatcher)\n",
      "        3    0.000    0.000    0.000    0.000 linalg.py:565(_matrix_power_dispatcher)\n",
      "        1    0.000    0.000    0.000    0.000 construction.py:196(mgr_to_mgr)\n",
      "        1    0.000    0.000    0.000    0.000 {method 'upper' of 'str' objects}\n",
      "        2    0.000    0.000    0.000    0.000 twodim_base.py:426(_trilu_dispatcher)\n",
      "        1    0.000    0.000    0.000    0.000 managers.py:896(__init__)\n",
      "        2    0.000    0.000    0.000    0.000 multiarray.py:153(concatenate)\n",
      "        2    0.000    0.000    0.000    0.000 {pandas._libs.lib.is_iterator}\n",
      "        1    0.000    0.000    0.000    0.000 numeric.py:2166(_allclose_dispatcher)\n",
      "        1    0.000    0.000    0.000    0.000 fromnumeric.py:1877(_nonzero_dispatcher)\n",
      "        2    0.000    0.000    0.000    0.000 construction.py:732(_maybe_repeat)\n",
      "        1    0.000    0.000    0.000    0.000 {method 'disable' of '_lsprof.Profiler' objects}\n",
      "        1    0.000    0.000    0.000    0.000 fromnumeric.py:2974(_prod_dispatcher)\n",
      "        1    0.000    0.000    0.000    0.000 common.py:126(_classes_and_not_datetimelike)\n",
      "        2    0.000    0.000    0.000    0.000 {built-in method builtins.hash}\n",
      "        1    0.000    0.000    0.000    0.000 fromnumeric.py:861(_sort_dispatcher)\n",
      "        1    0.000    0.000    0.000    0.000 numeric.py:2245(_isclose_dispatcher)\n",
      "        1    0.000    0.000    0.000    0.000 multiarray.py:669(result_type)\n",
      "\n",
      "\n"
     ]
    }
   ],
   "source": [
    "cProfile.run('swp.small_world_propensity(B)', sort='cumtime')"
   ]
  },
  {
   "cell_type": "markdown",
   "metadata": {},
   "source": [
    "So how do we interpret the above? We have sorted by cumulative time. The top 4 entries are essentially just calls to the main function, telling us how long we spend inside `small_world_propensity`. Next we can see that `get_average_paths` is taking an awful long time! We are spending just over half of our time inside this function! What's next on the list? generating the random integers is taking up most of the rest of the time, but we can't really avoid this. Perhaps there are more efficient random number generators that we can use?\n",
    "\n",
    "Let's start with the path length. Let's look at the `get_average_paths` function:\n",
    "\n",
    "```python\n",
    "def get_average_paths(W: np.ndarray) -> float:\n",
    "    \"\"\"Get the average shortest path length of W\n",
    "\n",
    "    Args:\n",
    "        W (np.ndarray): Symmetric adjacency matrix\n",
    "\n",
    "    Returns:\n",
    "        float: Average shortest path lengths.\n",
    "    \"\"\"\n",
    "    igG = ig.Graph.Weighted_Adjacency((1/W).tolist(), mode=\"UNDIRECTED\")\n",
    "    L_W = igG.average_path_length(weights=\"weight\")\n",
    "\n",
    "    return L_W\n",
    "```"
   ]
  },
  {
   "cell_type": "markdown",
   "metadata": {},
   "source": [
    "The details aren't really important, but we are converting our matrix into a graph using the `igraph` library, and then using a method from that library to get the path lengths. In our research, we discover that `scipy` has a sparse graph library that might be useful. We know that our graphs are sparse, so perhaps this will be more efficient...\n",
    "\n",
    "We can rewrite our function as follows:\n",
    "\n",
    "```python\n",
    "def get_average_paths(W: np.ndarray) -> float:\n",
    "    \"\"\"Get the average shortest path length of W\n",
    "\n",
    "    Args:\n",
    "        W (np.ndarray): Symmetric adjacency matrix\n",
    "\n",
    "    Returns:\n",
    "        float: Average shortest path lengths.\n",
    "    \"\"\"\n",
    "    path_matrix = csgraph.shortest_path(1/W, directed=False, unweighted=False)\n",
    "    L_W = np.triu(path_matrix).sum() / (len(W) * (len(W) - 1) / 2)\n",
    "\n",
    "    return L_W\n",
    "```"
   ]
  },
  {
   "cell_type": "markdown",
   "metadata": {},
   "source": [
    "Now we make the substitution. This also means that we now no longer need to include the weighty `igraph` package, so we take that out as well, and rerun the tests..."
   ]
  },
  {
   "cell_type": "markdown",
   "metadata": {},
   "source": [
    "All tests pass, so now we can try profiling again. Remember, you will need to restart the kernel."
   ]
  },
  {
   "cell_type": "code",
   "execution_count": 1,
   "metadata": {},
   "outputs": [
    {
     "data": {
      "text/plain": [
       "(361, 361)"
      ]
     },
     "execution_count": 1,
     "metadata": {},
     "output_type": "execute_result"
    }
   ],
   "source": [
    "import small_world_propensity as swp\n",
    "\n",
    "import scipy.io as sio\n",
    "import numpy as np\n",
    "import cProfile\n",
    "\n",
    "B = np.load('data/B_mat.npy')\n",
    "B.shape"
   ]
  },
  {
   "cell_type": "code",
   "execution_count": 2,
   "metadata": {},
   "outputs": [
    {
     "name": "stdout",
     "output_type": "stream",
     "text": [
      "         432156 function calls (432041 primitive calls) in 0.817 seconds\n",
      "\n",
      "   Ordered by: cumulative time\n",
      "\n",
      "   ncalls  tottime  percall  cumtime  percall filename:lineno(function)\n",
      "        1    0.000    0.000    0.817    0.817 {built-in method builtins.exec}\n",
      "        1    0.000    0.000    0.817    0.817 <string>:1(<module>)\n",
      "        1    0.000    0.000    0.817    0.817 small_world_propensity.py:13(small_world_propensity)\n",
      "        1    0.000    0.000    0.817    0.817 small_world_propensity.py:38(_small_world_propensity)\n",
      "        1    0.136    0.136    0.608    0.608 small_world_propensity.py:199(regular_matrix_generator)\n",
      "   423544    0.462    0.000    0.462    0.000 {method 'integers' of 'numpy.random._generator.Generator' objects}\n",
      "        3    0.000    0.000    0.165    0.055 small_world_propensity.py:144(get_average_paths)\n",
      "        3    0.148    0.049    0.165    0.055 {scipy.sparse.csgraph._shortest_path.shortest_path}\n",
      "        1    0.021    0.021    0.023    0.023 small_world_propensity.py:169(randomize_matrix)\n",
      "        3    0.004    0.001    0.018    0.006 small_world_propensity.py:159(get_clustering_coefficient)\n",
      "        6    0.000    0.000    0.017    0.003 _validation.py:9(validate_graph)\n",
      "        6    0.001    0.000    0.017    0.003 {scipy.sparse.csgraph._tools.csgraph_masked_from_dense}\n",
      "        3    0.014    0.005    0.014    0.005 linalg.py:569(matrix_power)\n",
      "        7    0.006    0.001    0.010    0.001 numeric.py:2249(isclose)\n",
      "        6    0.000    0.000    0.009    0.001 core.py:2260(masked_values)\n",
      "       12    0.000    0.000    0.006    0.000 core.py:3526(mask)\n",
      "       12    0.006    0.000    0.006    0.000 core.py:3445(__setmask__)\n",
      "        1    0.000    0.000    0.005    0.005 fromnumeric.py:865(sort)\n",
      "        1    0.005    0.005    0.005    0.005 {method 'sort' of 'numpy.ndarray' objects}\n",
      "     2357    0.004    0.000    0.004    0.000 {method 'nonzero' of 'numpy.ndarray' objects}\n",
      "        7    0.002    0.000    0.003    0.000 numeric.py:2330(within_tol)\n",
      "        1    0.000    0.000    0.002    0.002 numeric.py:2170(allclose)\n",
      "       14    0.001    0.000    0.001    0.000 {built-in method builtins.abs}\n",
      "       18    0.000    0.000    0.001    0.000 core.py:3071(__array_wrap__)\n",
      "        5    0.000    0.000    0.001    0.000 twodim_base.py:485(triu)\n",
      "        1    0.001    0.001    0.001    0.001 small_world_propensity.py:126(get_avg_rad_eff)\n",
      "        1    0.001    0.001    0.001    0.001 {method 'choice' of 'numpy.random.mtrand.RandomState' objects}\n",
      "        1    0.000    0.000    0.001    0.001 fromnumeric.py:1881(nonzero)\n",
      "        1    0.000    0.000    0.001    0.001 fromnumeric.py:53(_wrapfunc)\n",
      "       42    0.000    0.000    0.001    0.000 core.py:2978(__array_finalize__)\n",
      "        1    0.000    0.000    0.001    0.001 frame.py:668(__init__)\n",
      "       18    0.000    0.000    0.001    0.000 {built-in method _functools.reduce}\n",
      "       38    0.001    0.000    0.001    0.000 {method 'reduce' of 'numpy.ufunc' objects}\n",
      "        6    0.000    0.000    0.001    0.000 core.py:1704(mask_or)\n",
      "        1    0.000    0.000    0.000    0.000 construction.py:423(dict_to_mgr)\n",
      "       14    0.000    0.000    0.000    0.000 fromnumeric.py:71(_wrapreduction)\n",
      "        9    0.000    0.000    0.000    0.000 fromnumeric.py:2421(all)\n",
      "        5    0.000    0.000    0.000    0.000 twodim_base.py:366(tri)\n",
      "    66/54    0.000    0.000    0.000    0.000 {method 'view' of 'numpy.ndarray' objects}\n",
      "        1    0.000    0.000    0.000    0.000 construction.py:96(arrays_to_mgr)\n",
      "       18    0.000    0.000    0.000    0.000 core.py:3127(view)\n",
      "        5    0.000    0.000    0.000    0.000 {method 'outer' of 'numpy.ufunc' objects}\n",
      "       60    0.000    0.000    0.000    0.000 core.py:2952(_update_from)\n",
      "        2    0.000    0.000    0.000    0.000 base.py:477(__new__)\n",
      "       32    0.000    0.000    0.000    0.000 {built-in method numpy.zeros}\n",
      "        6    0.000    0.000    0.000    0.000 {method 'sum' of 'numpy.ndarray' objects}\n",
      "        9    0.000    0.000    0.000    0.000 {built-in method numpy.asarray}\n",
      "       13    0.000    0.000    0.000    0.000 construction.py:518(sanitize_array)\n",
      "        6    0.000    0.000    0.000    0.000 _methods.py:47(_sum)\n",
      "      528    0.000    0.000    0.000    0.000 {built-in method builtins.isinstance}\n",
      "       13    0.000    0.000    0.000    0.000 {method 'copy' of 'numpy.ndarray' objects}\n",
      "        1    0.000    0.000    0.000    0.000 numeric.py:136(ones)\n",
      "        6    0.000    0.000    0.000    0.000 core.py:2808(__new__)\n",
      "        1    0.000    0.000    0.000    0.000 shape_base.py:612(column_stack)\n",
      "       17    0.000    0.000    0.000    0.000 {method 'astype' of 'numpy.ndarray' objects}\n",
      "        1    0.000    0.000    0.000    0.000 {numpy.random._generator.default_rng}\n",
      "        1    0.000    0.000    0.000    0.000 construction.py:596(_homogenize)\n",
      "       12    0.000    0.000    0.000    0.000 numeric.py:203(ones_like)\n",
      "2439/2416    0.000    0.000    0.000    0.000 {built-in method builtins.len}\n",
      "       12    0.000    0.000    0.000    0.000 abc.py:117(__instancecheck__)\n",
      "        1    0.000    0.000    0.000    0.000 construction.py:481(<listcomp>)\n",
      "       16    0.000    0.000    0.000    0.000 _ufunc_config.py:33(seterr)\n",
      "       12    0.000    0.000    0.000    0.000 {built-in method _abc._abc_instancecheck}\n",
      "       11    0.000    0.000    0.000    0.000 common.py:296(maybe_iterable_to_list)\n",
      "     42/2    0.000    0.000    0.000    0.000 abc.py:121(__subclasscheck__)\n",
      "       18    0.000    0.000    0.000    0.000 core.py:3089(<listcomp>)\n",
      "     42/2    0.000    0.000    0.000    0.000 {built-in method _abc._abc_subclasscheck}\n",
      "       12    0.000    0.000    0.000    0.000 core.py:1545(_shrink_mask)\n",
      "       24    0.000    0.000    0.000    0.000 core.py:1424(getmaskarray)\n",
      "        8    0.000    0.000    0.000    0.000 _ufunc_config.py:430(__enter__)\n",
      "        1    0.000    0.000    0.000    0.000 {method 'flatten' of 'numpy.ndarray' objects}\n",
      "       12    0.000    0.000    0.000    0.000 {method 'any' of 'numpy.ndarray' objects}\n",
      "      621    0.000    0.000    0.000    0.000 {built-in method builtins.getattr}\n",
      "       42    0.000    0.000    0.000    0.000 core.py:433(_check_fill_value)\n",
      "        3    0.000    0.000    0.000    0.000 {method 'mean' of 'numpy.ndarray' objects}\n",
      "       12    0.000    0.000    0.000    0.000 _methods.py:55(_any)\n",
      "        3    0.000    0.000    0.000    0.000 _methods.py:101(_mean)\n",
      "        1    0.000    0.000    0.000    0.000 managers.py:2068(create_block_manager_from_column_arrays)\n",
      "        3    0.000    0.000    0.000    0.000 {method 'max' of 'numpy.ndarray' objects}\n",
      "       11    0.000    0.000    0.000    0.000 cast.py:1483(construct_1d_arraylike_from_scalar)\n",
      "        6    0.000    0.000    0.000    0.000 core.py:3656(shrink_mask)\n",
      "       18    0.000    0.000    0.000    0.000 core.py:1644(make_mask_none)\n",
      "        2    0.000    0.000    0.000    0.000 base.py:7512(ensure_index)\n",
      "        6    0.000    0.000    0.000    0.000 core.py:1555(make_mask)\n",
      "        3    0.000    0.000    0.000    0.000 _methods.py:39(_amax)\n",
      "       36    0.000    0.000    0.000    0.000 core.py:1329(make_mask_descr)\n",
      "        3    0.000    0.000    0.000    0.000 fromnumeric.py:2322(any)\n",
      "      105    0.000    0.000    0.000    0.000 {built-in method numpy.array}\n",
      "        6    0.000    0.000    0.000    0.000 numeric.py:67(zeros_like)\n",
      "        2    0.000    0.000    0.000    0.000 cast.py:119(maybe_convert_platform)\n",
      "        1    0.000    0.000    0.000    0.000 managers.py:2137(_form_blocks)\n",
      "        8    0.000    0.000    0.000    0.000 _ufunc_config.py:435(__exit__)\n",
      "       36    0.000    0.000    0.000    0.000 core.py:1315(_replace_dtype_fields)\n",
      "        1    0.000    0.000    0.000    0.000 fromnumeric.py:2979(prod)\n",
      "       16    0.000    0.000    0.000    0.000 _ufunc_config.py:132(geterr)\n",
      "        6    0.000    0.000    0.000    0.000 numerictypes.py:357(issubdtype)\n",
      "       14    0.000    0.000    0.000    0.000 {built-in method builtins.next}\n",
      "        3    0.000    0.000    0.000    0.000 {pandas._libs.lib.maybe_convert_objects}\n",
      "        1    0.000    0.000    0.000    0.000 contextlib.py:76(inner)\n",
      "      138    0.000    0.000    0.000    0.000 core.py:3417(dtype)\n",
      "       11    0.000    0.000    0.000    0.000 cast.py:774(infer_dtype_from_scalar)\n",
      "       10    0.000    0.000    0.000    0.000 twodim_base.py:33(_min_int)\n",
      "      246    0.000    0.000    0.000    0.000 {method 'update' of 'dict' objects}\n",
      "       72    0.000    0.000    0.000    0.000 core.py:3433(shape)\n",
      "        7    0.000    0.000    0.000    0.000 contextlib.py:123(__exit__)\n",
      "       14    0.000    0.000    0.000    0.000 _ufunc_config.py:452(_no_nep50_warning)\n",
      "        7    0.000    0.000    0.000    0.000 contextlib.py:261(helper)\n",
      "        7    0.000    0.000    0.000    0.000 contextlib.py:114(__enter__)\n",
      "        3    0.000    0.000    0.000    0.000 fromnumeric.py:1565(diagonal)\n",
      "        2    0.000    0.000    0.000    0.000 base.py:648(_simple_new)\n",
      "       84    0.000    0.000    0.000    0.000 core.py:1362(getmask)\n",
      "        3    0.000    0.000    0.000    0.000 _methods.py:67(_count_reduce_items)\n",
      "       12    0.000    0.000    0.000    0.000 numerictypes.py:283(issubclass_)\n",
      "       10    0.000    0.000    0.000    0.000 {built-in method numpy.arange}\n",
      "        1    0.000    0.000    0.000    0.000 fromnumeric.py:2692(max)\n",
      "        1    0.000    0.000    0.000    0.000 random.py:791(getrandbits)\n",
      "        7    0.000    0.000    0.000    0.000 contextlib.py:86(__init__)\n",
      "        1    0.000    0.000    0.000    0.000 config.py:271(__call__)\n",
      "        1    0.000    0.000    0.000    0.000 {function SeedSequence.generate_state at 0x11006fdc0}\n",
      "       24    0.000    0.000    0.000    0.000 {method 'view' of 'numpy.generic' objects}\n",
      "        4    0.000    0.000    0.000    0.000 common.py:1322(is_ea_or_datetimelike_dtype)\n",
      "        1    0.000    0.000    0.000    0.000 config.py:145(_get_option)\n",
      "       18    0.000    0.000    0.000    0.000 core.py:3516(mask)\n",
      "        1    0.000    0.000    0.000    0.000 {built-in method posix.urandom}\n",
      "       36    0.000    0.000    0.000    0.000 core.py:1283(_replace_dtype_fields_recursive)\n",
      "        1    0.000    0.000    0.000    0.000 generic.py:274(__init__)\n",
      "       31    0.000    0.000    0.000    0.000 generic.py:42(_instancecheck)\n",
      "       18    0.000    0.000    0.000    0.000 _base.py:1461(issparse)\n",
      "       14    0.000    0.000    0.000    0.000 fromnumeric.py:72(<dictcomp>)\n",
      "       48    0.000    0.000    0.000    0.000 {built-in method builtins.issubclass}\n",
      "        2    0.000    0.000    0.000    0.000 base.py:7607(maybe_extract_name)\n",
      "       38    0.000    0.000    0.000    0.000 {built-in method numpy.asanyarray}\n",
      "       16    0.000    0.000    0.000    0.000 {built-in method numpy.seterrobj}\n",
      "        1    0.000    0.000    0.000    0.000 construction.py:487(<listcomp>)\n",
      "        1    0.000    0.000    0.000    0.000 cast.py:1147(maybe_infer_to_datetimelike)\n",
      "       15    0.000    0.000    0.000    0.000 {pandas._libs.lib.is_np_dtype}\n",
      "       18    0.000    0.000    0.000    0.000 {built-in method numpy.empty}\n",
      "        3    0.000    0.000    0.000    0.000 numeric.py:274(full)\n",
      "        1    0.000    0.000    0.000    0.000 config.py:127(_get_single_key)\n",
      "       26    0.000    0.000    0.000    0.000 {built-in method builtins.hasattr}\n",
      "       12    0.000    0.000    0.000    0.000 core.py:587(filled)\n",
      "        3    0.000    0.000    0.000    0.000 {method 'diagonal' of 'numpy.ndarray' objects}\n",
      "        2    0.000    0.000    0.000    0.000 cast.py:1544(construct_1d_object_array_from_listlike)\n",
      "        7    0.000    0.000    0.000    0.000 _ufunc_config.py:426(__init__)\n",
      "       20    0.000    0.000    0.000    0.000 getlimits.py:709(max)\n",
      "       31    0.000    0.000    0.000    0.000 generic.py:37(_check)\n",
      "       11    0.000    0.000    0.000    0.000 common.py:556(require_length_match)\n",
      "        1    0.000    0.000    0.000    0.000 shape_base.py:608(_column_stack_dispatcher)\n",
      "        7    0.000    0.000    0.000    0.000 {method 'set' of 'ContextVar' objects}\n",
      "        1    0.000    0.000    0.000    0.000 _asarray.py:27(require)\n",
      "       10    0.000    0.000    0.000    0.000 getlimits.py:696(min)\n",
      "        1    0.000    0.000    0.000    0.000 managers.py:2194(_stack_arrays)\n",
      "        2    0.000    0.000    0.000    0.000 base.py:591(_dtype_to_subclass)\n",
      "        1    0.000    0.000    0.000    0.000 shape_base.py:207(_arrays_for_stack_dispatcher)\n",
      "        9    0.000    0.000    0.000    0.000 core.py:6485(isMaskedArray)\n",
      "       32    0.000    0.000    0.000    0.000 {built-in method numpy.geterrobj}\n",
      "       12    0.000    0.000    0.000    0.000 fromnumeric.py:1980(shape)\n",
      "       15    0.000    0.000    0.000    0.000 {pandas._libs.lib.is_list_like}\n",
      "       11    0.000    0.000    0.000    0.000 managers.py:2124(_grouping_func)\n",
      "       23    0.000    0.000    0.000    0.000 base.py:908(__len__)\n",
      "        5    0.000    0.000    0.000    0.000 _collections_abc.py:78(_check_methods)\n",
      "        6    0.000    0.000    0.000    0.000 {method 'copy' of 'numpy.generic' objects}\n",
      "        7    0.000    0.000    0.000    0.000 {method 'reset' of 'ContextVar' objects}\n",
      "        1    0.000    0.000    0.000    0.000 common.py:1066(is_numeric_dtype)\n",
      "       13    0.000    0.000    0.000    0.000 construction.py:419(extract_array)\n",
      "       14    0.000    0.000    0.000    0.000 {method 'items' of 'dict' objects}\n",
      "        1    0.000    0.000    0.000    0.000 managers.py:1744(_consolidate_inplace)\n",
      "        2    0.000    0.000    0.000    0.000 {method 'add_index_reference' of 'pandas._libs.internals.BlockValuesRefs' objects}\n",
      "        6    0.000    0.000    0.000    0.000 core.py:3692(_get_data)\n",
      "        1    0.000    0.000    0.000    0.000 _collections_abc.py:262(__subclasshook__)\n",
      "        2    0.000    0.000    0.000    0.000 base.py:573(_ensure_array)\n",
      "        1    0.000    0.000    0.000    0.000 config.py:633(_get_root)\n",
      "        1    0.000    0.000    0.000    0.000 config.py:686(_warn_if_deprecated)\n",
      "        1    0.000    0.000    0.000    0.000 flags.py:53(__init__)\n",
      "       18    0.000    0.000    0.000    0.000 {method 'get' of 'dict' objects}\n",
      "        3    0.000    0.000    0.000    0.000 linalg.py:209(_assert_stacked_square)\n",
      "       11    0.000    0.000    0.000    0.000 {built-in method pandas._libs.lib.is_interval}\n",
      "        1    0.000    0.000    0.000    0.000 managers.py:1726(is_consolidated)\n",
      "        3    0.000    0.000    0.000    0.000 {built-in method numpy.core._multiarray_umath.normalize_axis_index}\n",
      "       25    0.000    0.000    0.000    0.000 _collections_abc.py:409(__subclasshook__)\n",
      "        1    0.000    0.000    0.000    0.000 config.py:615(_select_options)\n",
      "        1    0.000    0.000    0.000    0.000 {method 'reshape' of 'numpy.ndarray' objects}\n",
      "        9    0.000    0.000    0.000    0.000 fromnumeric.py:2416(_all_dispatcher)\n",
      "       11    0.000    0.000    0.000    0.000 {method 'fill' of 'numpy.ndarray' objects}\n",
      "        1    0.000    0.000    0.000    0.000 blocks.py:2346(get_block_type)\n",
      "       22    0.000    0.000    0.000    0.000 multiarray.py:1080(copyto)\n",
      "       11    0.000    0.000    0.000    0.000 common.py:1255(is_1d_only_ea_dtype)\n",
      "        2    0.000    0.000    0.000    0.000 config.py:647(_get_deprecated_option)\n",
      "       12    0.000    0.000    0.000    0.000 numeric.py:199(_ones_like_dispatcher)\n",
      "        1    0.000    0.000    0.000    0.000 _asarray.py:108(<setcomp>)\n",
      "        1    0.000    0.000    0.000    0.000 common.py:1425(_is_dtype_type)\n",
      "        1    0.000    0.000    0.000    0.000 {pandas._libs.lib.is_all_arraylike}\n",
      "       25    0.000    0.000    0.000    0.000 {method 'append' of 'list' objects}\n",
      "        3    0.000    0.000    0.000    0.000 linalg.py:203(_assert_stacked_2d)\n",
      "        2    0.000    0.000    0.000    0.000 construction.py:712(_sanitize_str_dtypes)\n",
      "        3    0.000    0.000    0.000    0.000 fromnumeric.py:2317(_any_dispatcher)\n",
      "       18    0.000    0.000    0.000    0.000 multiarray.py:85(empty_like)\n",
      "        2    0.000    0.000    0.000    0.000 construction.py:673(_sanitize_ndim)\n",
      "       12    0.000    0.000    0.000    0.000 multiarray.py:346(where)\n",
      "        2    0.000    0.000    0.000    0.000 construction.py:665(_sanitize_non_ordered)\n",
      "        2    0.000    0.000    0.000    0.000 construction.py:484(ensure_wrapped_if_datetimelike)\n",
      "       12    0.000    0.000    0.000    0.000 fromnumeric.py:1976(_shape_dispatcher)\n",
      "        2    0.000    0.000    0.000    0.000 inference.py:334(is_hashable)\n",
      "        2    0.000    0.000    0.000    0.000 {pandas._libs.lib.is_scalar}\n",
      "        5    0.000    0.000    0.000    0.000 _collections_abc.py:283(__subclasshook__)\n",
      "        1    0.000    0.000    0.000    0.000 common.py:131(<lambda>)\n",
      "       11    0.000    0.000    0.000    0.000 {pandas._libs.lib.is_integer}\n",
      "       16    0.000    0.000    0.000    0.000 typing.py:1375(cast)\n",
      "        7    0.000    0.000    0.000    0.000 numeric.py:2245(_isclose_dispatcher)\n",
      "       11    0.000    0.000    0.000    0.000 {pandas._libs.lib.is_bool}\n",
      "        7    0.000    0.000    0.000    0.000 _collections_abc.py:315(__subclasshook__)\n",
      "        3    0.000    0.000    0.000    0.000 fromnumeric.py:1561(_diagonal_dispatcher)\n",
      "        7    0.000    0.000    0.000    0.000 multiarray.py:669(result_type)\n",
      "       11    0.000    0.000    0.000    0.000 {pandas._libs.lib.is_float}\n",
      "       11    0.000    0.000    0.000    0.000 {pandas._libs.lib.is_period}\n",
      "        1    0.000    0.000    0.000    0.000 managers.py:1734(_consolidate_check)\n",
      "        1    0.000    0.000    0.000    0.000 __init__.py:43(using_pyarrow_string_dtype)\n",
      "        1    0.000    0.000    0.000    0.000 _collections_abc.py:362(__subclasshook__)\n",
      "        6    0.000    0.000    0.000    0.000 numeric.py:63(_zeros_like_dispatcher)\n",
      "        1    0.000    0.000    0.000    0.000 {method 'split' of 'str' objects}\n",
      "        2    0.000    0.000    0.000    0.000 base.py:830(_reset_identity)\n",
      "        1    0.000    0.000    0.000    0.000 {built-in method builtins.all}\n",
      "        1    0.000    0.000    0.000    0.000 config.py:674(_translate_key)\n",
      "        1    0.000    0.000    0.000    0.000 {built-in method from_bytes}\n",
      "        5    0.000    0.000    0.000    0.000 twodim_base.py:426(_trilu_dispatcher)\n",
      "        2    0.000    0.000    0.000    0.000 base.py:538(<genexpr>)\n",
      "        2    0.000    0.000    0.000    0.000 {built-in method __new__ of type object at 0x102f8e880}\n",
      "        3    0.000    0.000    0.000    0.000 linalg.py:565(_matrix_power_dispatcher)\n",
      "        3    0.000    0.000    0.000    0.000 multiarray.py:153(concatenate)\n",
      "        2    0.000    0.000    0.000    0.000 {pandas._libs.lib.is_iterator}\n",
      "        1    0.000    0.000    0.000    0.000 {method 'upper' of 'str' objects}\n",
      "        3    0.000    0.000    0.000    0.000 {built-in method _operator.index}\n",
      "        1    0.000    0.000    0.000    0.000 managers.py:896(__init__)\n",
      "        1    0.000    0.000    0.000    0.000 construction.py:196(mgr_to_mgr)\n",
      "        1    0.000    0.000    0.000    0.000 {method 'disable' of '_lsprof.Profiler' objects}\n",
      "        1    0.000    0.000    0.000    0.000 common.py:126(_classes_and_not_datetimelike)\n",
      "        2    0.000    0.000    0.000    0.000 construction.py:732(_maybe_repeat)\n",
      "        1    0.000    0.000    0.000    0.000 numeric.py:2166(_allclose_dispatcher)\n",
      "        1    0.000    0.000    0.000    0.000 fromnumeric.py:2974(_prod_dispatcher)\n",
      "        1    0.000    0.000    0.000    0.000 {method 'keys' of 'dict' objects}\n",
      "        2    0.000    0.000    0.000    0.000 {built-in method builtins.hash}\n",
      "        1    0.000    0.000    0.000    0.000 contextlib.py:63(_recreate_cm)\n",
      "        1    0.000    0.000    0.000    0.000 fromnumeric.py:861(_sort_dispatcher)\n",
      "        1    0.000    0.000    0.000    0.000 fromnumeric.py:1877(_nonzero_dispatcher)\n",
      "        1    0.000    0.000    0.000    0.000 fromnumeric.py:2687(_max_dispatcher)\n",
      "\n",
      "\n"
     ]
    }
   ],
   "source": [
    "cProfile.run('swp.small_world_propensity(B)', sort='cumtime')"
   ]
  },
  {
   "cell_type": "code",
   "execution_count": 3,
   "metadata": {},
   "outputs": [
    {
     "data": {
      "text/html": [
       "<div>\n",
       "<style scoped>\n",
       "    .dataframe tbody tr th:only-of-type {\n",
       "        vertical-align: middle;\n",
       "    }\n",
       "\n",
       "    .dataframe tbody tr th {\n",
       "        vertical-align: top;\n",
       "    }\n",
       "\n",
       "    .dataframe thead th {\n",
       "        text-align: right;\n",
       "    }\n",
       "</style>\n",
       "<table border=\"1\" class=\"dataframe\">\n",
       "  <thead>\n",
       "    <tr style=\"text-align: right;\">\n",
       "      <th></th>\n",
       "      <th>Network C</th>\n",
       "      <th>Network L</th>\n",
       "      <th>ΔC</th>\n",
       "      <th>ΔL</th>\n",
       "      <th>SWP</th>\n",
       "      <th>α</th>\n",
       "      <th>δ</th>\n",
       "      <th>Regular C</th>\n",
       "      <th>Random C</th>\n",
       "      <th>Regular L</th>\n",
       "      <th>Random L</th>\n",
       "    </tr>\n",
       "  </thead>\n",
       "  <tbody>\n",
       "    <tr>\n",
       "      <th>0</th>\n",
       "      <td>0.042583</td>\n",
       "      <td>11.987697</td>\n",
       "      <td>0.0</td>\n",
       "      <td>0.232229</td>\n",
       "      <td>0.83579</td>\n",
       "      <td>1.570796</td>\n",
       "      <td>1.0</td>\n",
       "      <td>0.04078</td>\n",
       "      <td>0.039691</td>\n",
       "      <td>26.247026</td>\n",
       "      <td>7.674664</td>\n",
       "    </tr>\n",
       "  </tbody>\n",
       "</table>\n",
       "</div>"
      ],
      "text/plain": [
       "   Network C  Network L   ΔC        ΔL      SWP         α    δ  Regular C  \\\n",
       "0   0.042583  11.987697  0.0  0.232229  0.83579  1.570796  1.0    0.04078   \n",
       "\n",
       "   Random C  Regular L  Random L  \n",
       "0  0.039691  26.247026  7.674664  "
      ]
     },
     "execution_count": 3,
     "metadata": {},
     "output_type": "execute_result"
    }
   ],
   "source": [
    "C = np.load('data/C_mat.npy')\n",
    "swp.small_world_propensity(C)"
   ]
  },
  {
   "cell_type": "markdown",
   "metadata": {},
   "source": [
    "Great! We have cut the time to around 45% of the original. Let's see if we can do something about the randomness...we can use the magic function called timeit to compare simple function calls."
   ]
  },
  {
   "cell_type": "code",
   "execution_count": 19,
   "metadata": {},
   "outputs": [
    {
     "name": "stdout",
     "output_type": "stream",
     "text": [
      "1.28 µs ± 5.06 ns per loop (mean ± std. dev. of 7 runs, 1,000,000 loops each)\n"
     ]
    }
   ],
   "source": [
    "%%timeit\n",
    "np.random.randint(0,10000)"
   ]
  },
  {
   "cell_type": "markdown",
   "metadata": {},
   "source": [
    "The default random number generator is PCG64, which is quite fast. But as we talked about in the first Lab, this method isn't the preferred way of generating random numbers. So let's try using the `Generator` class and the `SFC64` algorithm."
   ]
  },
  {
   "cell_type": "code",
   "execution_count": 21,
   "metadata": {},
   "outputs": [],
   "source": [
    "from numpy.random import Generator, PCG64, SFC64\n",
    "\n",
    "rngPC = Generator(PCG64(1337))\n",
    "rngSF = Generator(SFC64(1337))\n"
   ]
  },
  {
   "cell_type": "code",
   "execution_count": 22,
   "metadata": {},
   "outputs": [
    {
     "name": "stdout",
     "output_type": "stream",
     "text": [
      "1.05 µs ± 5.94 ns per loop (mean ± std. dev. of 7 runs, 1,000,000 loops each)\n"
     ]
    }
   ],
   "source": [
    "%%timeit\n",
    "rngPC.integers(0,10000)"
   ]
  },
  {
   "cell_type": "code",
   "execution_count": 24,
   "metadata": {},
   "outputs": [
    {
     "name": "stdout",
     "output_type": "stream",
     "text": [
      "1.03 µs ± 3.82 ns per loop (mean ± std. dev. of 7 runs, 1,000,000 loops each)\n"
     ]
    }
   ],
   "source": [
    "%%timeit\n",
    "rngSF.integers(0,10000)"
   ]
  },
  {
   "cell_type": "markdown",
   "metadata": {},
   "source": [
    "So this method is a bit faster, with `SFC64` giving trivially better performance. So we'll make an update to our function, and also make sure that we can pass a seed so that we can iterate over many instances."
   ]
  },
  {
   "cell_type": "code",
   "execution_count": 1,
   "metadata": {},
   "outputs": [],
   "source": [
    "import small_world_propensity as swp\n",
    "import numpy as np"
   ]
  },
  {
   "cell_type": "code",
   "execution_count": 2,
   "metadata": {},
   "outputs": [
    {
     "data": {
      "text/html": [
       "<div>\n",
       "<style scoped>\n",
       "    .dataframe tbody tr th:only-of-type {\n",
       "        vertical-align: middle;\n",
       "    }\n",
       "\n",
       "    .dataframe tbody tr th {\n",
       "        vertical-align: top;\n",
       "    }\n",
       "\n",
       "    .dataframe thead th {\n",
       "        text-align: right;\n",
       "    }\n",
       "</style>\n",
       "<table border=\"1\" class=\"dataframe\">\n",
       "  <thead>\n",
       "    <tr style=\"text-align: right;\">\n",
       "      <th></th>\n",
       "      <th>Network C</th>\n",
       "      <th>Network L</th>\n",
       "      <th>ΔC</th>\n",
       "      <th>ΔL</th>\n",
       "      <th>SWP</th>\n",
       "      <th>α</th>\n",
       "      <th>δ</th>\n",
       "      <th>Regular C</th>\n",
       "      <th>Random C</th>\n",
       "      <th>Regular L</th>\n",
       "      <th>Random L</th>\n",
       "    </tr>\n",
       "  </thead>\n",
       "  <tbody>\n",
       "    <tr>\n",
       "      <th>0</th>\n",
       "      <td>0.042583</td>\n",
       "      <td>11.987697</td>\n",
       "      <td>0.0</td>\n",
       "      <td>0.232073</td>\n",
       "      <td>0.8359</td>\n",
       "      <td>1.570796</td>\n",
       "      <td>1.0</td>\n",
       "      <td>0.04078</td>\n",
       "      <td>0.039689</td>\n",
       "      <td>26.247057</td>\n",
       "      <td>7.67842</td>\n",
       "    </tr>\n",
       "  </tbody>\n",
       "</table>\n",
       "</div>"
      ],
      "text/plain": [
       "   Network C  Network L   ΔC        ΔL     SWP         α    δ  Regular C  \\\n",
       "0   0.042583  11.987697  0.0  0.232073  0.8359  1.570796  1.0    0.04078   \n",
       "\n",
       "   Random C  Regular L  Random L  \n",
       "0  0.039689  26.247057   7.67842  "
      ]
     },
     "execution_count": 2,
     "metadata": {},
     "output_type": "execute_result"
    }
   ],
   "source": [
    "C = np.load('data/C_mat.npy')\n",
    "swp.small_world_propensity(C, seed=1337)\n"
   ]
  },
  {
   "cell_type": "code",
   "execution_count": 7,
   "metadata": {},
   "outputs": [
    {
     "data": {
      "text/html": [
       "<div>\n",
       "<style scoped>\n",
       "    .dataframe tbody tr th:only-of-type {\n",
       "        vertical-align: middle;\n",
       "    }\n",
       "\n",
       "    .dataframe tbody tr th {\n",
       "        vertical-align: top;\n",
       "    }\n",
       "\n",
       "    .dataframe thead th {\n",
       "        text-align: right;\n",
       "    }\n",
       "</style>\n",
       "<table border=\"1\" class=\"dataframe\">\n",
       "  <thead>\n",
       "    <tr style=\"text-align: right;\">\n",
       "      <th></th>\n",
       "      <th>Network C</th>\n",
       "      <th>Network L</th>\n",
       "      <th>ΔC</th>\n",
       "      <th>ΔL</th>\n",
       "      <th>SWP</th>\n",
       "      <th>α</th>\n",
       "      <th>δ</th>\n",
       "      <th>Regular C</th>\n",
       "      <th>Random C</th>\n",
       "      <th>Regular L</th>\n",
       "      <th>Random L</th>\n",
       "    </tr>\n",
       "  </thead>\n",
       "  <tbody>\n",
       "    <tr>\n",
       "      <th>0</th>\n",
       "      <td>0.270482</td>\n",
       "      <td>3.566516</td>\n",
       "      <td>0.170363</td>\n",
       "      <td>0.247591</td>\n",
       "      <td>0.787485</td>\n",
       "      <td>0.968113</td>\n",
       "      <td>0.232639</td>\n",
       "      <td>0.29693</td>\n",
       "      <td>0.141686</td>\n",
       "      <td>5.874811</td>\n",
       "      <td>2.806938</td>\n",
       "    </tr>\n",
       "  </tbody>\n",
       "</table>\n",
       "</div>"
      ],
      "text/plain": [
       "   Network C  Network L        ΔC        ΔL       SWP         α         δ  \\\n",
       "0   0.270482   3.566516  0.170363  0.247591  0.787485  0.968113  0.232639   \n",
       "\n",
       "   Regular C  Random C  Regular L  Random L  \n",
       "0    0.29693  0.141686   5.874811  2.806938  "
      ]
     },
     "execution_count": 7,
     "metadata": {},
     "output_type": "execute_result"
    }
   ],
   "source": [
    "cat = sio.loadmat('data/cat.mat')['CIJctx']\n",
    "\n",
    "swp.small_world_propensity(cat, 1337)"
   ]
  },
  {
   "cell_type": "markdown",
   "metadata": {},
   "source": [
    "So not really a whole lot of gain, but now the user at least has more control over seeding the random number generator. If other researchers want to replicate your code, then they can simply use the same initial seed."
   ]
  },
  {
   "cell_type": "markdown",
   "metadata": {},
   "source": []
  }
 ],
 "metadata": {
  "kernelspec": {
   "display_name": "venv",
   "language": "python",
   "name": "python3"
  },
  "language_info": {
   "codemirror_mode": {
    "name": "ipython",
    "version": 3
   },
   "file_extension": ".py",
   "mimetype": "text/x-python",
   "name": "python",
   "nbconvert_exporter": "python",
   "pygments_lexer": "ipython3",
   "version": "3.9.16"
  },
  "orig_nbformat": 4
 },
 "nbformat": 4,
 "nbformat_minor": 2
}

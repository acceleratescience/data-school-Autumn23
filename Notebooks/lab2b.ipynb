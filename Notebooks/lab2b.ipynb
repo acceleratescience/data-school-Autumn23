{
 "cells": [
  {
   "cell_type": "markdown",
   "metadata": {},
   "source": [
    "# Data analysis with our new pipeline"
   ]
  },
  {
   "cell_type": "markdown",
   "metadata": {},
   "source": [
    "So now we have essentially wrapped up our pipeline into a module that we can play with. We have purposely exposed the main parameters that we care about, so we can try and do some comparisons. We now no longer have to worry about the details of the memristor network or the regression model, and just focus on doing the data analysis. Notice that there is no mention of digits dataset in the `MemristorModel` class. Therefore, as long as the input data is of the same format, we can also experiment with different datasets, but for now, we'll stick with the digits."
   ]
  },
  {
   "cell_type": "code",
   "execution_count": 1,
   "metadata": {},
   "outputs": [],
   "source": [
    "from memristive_networks import MemristorModel, get_digits_data, score\n",
    "\n",
    "from seeds import set_all_seeds\n",
    "\n",
    "set_all_seeds(0)"
   ]
  },
  {
   "cell_type": "markdown",
   "metadata": {},
   "source": [
    "First we'll just test everything to make sure it works as expected. If we want to alter our model at all, this will become pretty tedious. Maybe there is a way to automate this process..."
   ]
  },
  {
   "cell_type": "code",
   "execution_count": 2,
   "metadata": {},
   "outputs": [],
   "source": [
    "X_train, y_train, X_val, y_val, X_test, y_test = get_digits_data()"
   ]
  },
  {
   "cell_type": "code",
   "execution_count": 3,
   "metadata": {},
   "outputs": [
    {
     "name": "stdout",
     "output_type": "stream",
     "text": [
      "Connected network found\n"
     ]
    }
   ],
   "source": [
    "mem_model = MemristorModel(\n",
    "    N = 10,\n",
    "    v_min = 0.01,\n",
    "    v_max = 0.11,\n",
    "    n_outputs = 3\n",
    ")"
   ]
  },
  {
   "cell_type": "code",
   "execution_count": 4,
   "metadata": {},
   "outputs": [],
   "source": [
    "import matplotlib.pyplot as plt"
   ]
  },
  {
   "cell_type": "code",
   "execution_count": 5,
   "metadata": {},
   "outputs": [
    {
     "data": {
      "image/png": "[encoded data removed]",
      "text/plain": [
       "<Figure size 640x480 with 1 Axes>"
      ]
     },
     "metadata": {},
     "output_type": "display_data"
    }
   ],
   "source": [
    "plt.imshow(mem_model.W, 'Greys')\n",
    "plt.show()"
   ]
  },
  {
   "cell_type": "code",
   "execution_count": 6,
   "metadata": {},
   "outputs": [
    {
     "name": "stderr",
     "output_type": "stream",
     "text": [
      "  0%|          | 0/1010 [00:00<?, ?it/s]"
     ]
    },
    {
     "name": "stderr",
     "output_type": "stream",
     "text": [
      "100%|██████████| 1010/1010 [01:16<00:00, 13.14it/s]\n"
     ]
    }
   ],
   "source": [
    "mem_model.fit(X_train, y_train)"
   ]
  },
  {
   "cell_type": "code",
   "execution_count": 7,
   "metadata": {},
   "outputs": [
    {
     "name": "stderr",
     "output_type": "stream",
     "text": [
      "100%|██████████| 337/337 [00:26<00:00, 12.93it/s]\n"
     ]
    }
   ],
   "source": [
    "y_pred = mem_model.predict(X_val)"
   ]
  },
  {
   "cell_type": "code",
   "execution_count": 9,
   "metadata": {},
   "outputs": [
    {
     "data": {
      "text/plain": [
       "0.973293768545994"
      ]
     },
     "execution_count": 9,
     "metadata": {},
     "output_type": "execute_result"
    }
   ],
   "source": [
    "score(y_val, y_pred)"
   ]
  },
  {
   "cell_type": "code",
   "execution_count": 8,
   "metadata": {},
   "outputs": [
    {
     "name": "stdout",
     "output_type": "stream",
     "text": [
      "seed: 0\n",
      "Connected network found\n"
     ]
    },
    {
     "name": "stderr",
     "output_type": "stream",
     "text": [
      "100%|██████████| 1010/1010 [00:38<00:00, 26.05it/s]\n",
      "100%|██████████| 337/337 [00:12<00:00, 25.95it/s]\n"
     ]
    },
    {
     "name": "stdout",
     "output_type": "stream",
     "text": [
      "seed: 1\n",
      "Connected network found\n"
     ]
    },
    {
     "name": "stderr",
     "output_type": "stream",
     "text": [
      "100%|██████████| 1010/1010 [00:38<00:00, 26.49it/s]\n",
      "100%|██████████| 337/337 [00:12<00:00, 26.69it/s]\n"
     ]
    },
    {
     "name": "stdout",
     "output_type": "stream",
     "text": [
      "seed: 2\n",
      "Connected network found\n"
     ]
    },
    {
     "name": "stderr",
     "output_type": "stream",
     "text": [
      "100%|██████████| 1010/1010 [00:38<00:00, 26.18it/s]\n",
      "100%|██████████| 337/337 [00:12<00:00, 26.51it/s]\n"
     ]
    },
    {
     "name": "stdout",
     "output_type": "stream",
     "text": [
      "seed: 3\n",
      "Connected network found\n"
     ]
    },
    {
     "name": "stderr",
     "output_type": "stream",
     "text": [
      "100%|██████████| 1010/1010 [00:38<00:00, 26.52it/s]\n",
      "100%|██████████| 337/337 [00:12<00:00, 26.45it/s]\n"
     ]
    },
    {
     "name": "stdout",
     "output_type": "stream",
     "text": [
      "seed: 4\n",
      "Connected network found\n"
     ]
    },
    {
     "name": "stderr",
     "output_type": "stream",
     "text": [
      "100%|██████████| 1010/1010 [00:38<00:00, 26.00it/s]\n",
      "100%|██████████| 337/337 [00:12<00:00, 26.27it/s]\n"
     ]
    }
   ],
   "source": [
    "N_seeds = 10\n",
    "\n",
    "from tqdm import tqdm\n",
    "from sklearn.linear_model import LogisticRegression\n",
    "from sklearn.preprocessing import MinMaxScaler\n",
    "\n",
    "accuracy_scores = []\n",
    "baseline_scores = []\n",
    "\n",
    "model_args = {\n",
    "    'N' : 20,\n",
    "    'v_min' : 0.01,\n",
    "    'v_max' : 0.11,\n",
    "    'n_outputs' : 6,\n",
    "}\n",
    "\n",
    "for i in range(N_seeds):\n",
    "    print(f\"seed: {i}\")\n",
    "    X_train, y_train, X_val, y_val, X_test, y_test = get_digits_data()\n",
    "    # Baseline model\n",
    "    baseline = LogisticRegression(solver='lbfgs', max_iter=4000)\n",
    "    baseline_scaler = MinMaxScaler()\n",
    "\n",
    "    baseline_scaler.fit(X_train)\n",
    "\n",
    "    baseline.fit(baseline_scaler.transform(X_train), y_train)\n",
    "    y_pred_baseline = baseline.predict(baseline_scaler.transform(X_val))\n",
    "    baseline_scores.append(score(y_val, y_pred_baseline))\n",
    "    print(score(y_val, y_pred_baseline))\n",
    "\n",
    "    # Memristor model\n",
    "    mem_model = MemristorModel(**model_args)\n",
    "    mem_model.fit(X_train, y_train)\n",
    "    y_pred = mem_model.predict(X_val)\n",
    "    accuracy_scores.append(score(y_val, y_pred))\n",
    "    print(score(y_val, y_pred))\n",
    "    "
   ]
  },
  {
   "cell_type": "code",
   "execution_count": 9,
   "metadata": {},
   "outputs": [
    {
     "data": {
      "text/plain": [
       "[<matplotlib.lines.Line2D at 0x286b00370>]"
      ]
     },
     "execution_count": 9,
     "metadata": {},
     "output_type": "execute_result"
    },
    {
     "data": {
      "image/png": "[encoded data removed]",
      "text/plain": [
       "<Figure size 640x480 with 1 Axes>"
      ]
     },
     "metadata": {},
     "output_type": "display_data"
    }
   ],
   "source": [
    "import matplotlib.pyplot as plt\n",
    "\n",
    "plt.plot(accuracy_scores, 'r')\n",
    "plt.plot(baseline_scores, 'b')"
   ]
  },
  {
   "cell_type": "code",
   "execution_count": 10,
   "metadata": {},
   "outputs": [
    {
     "name": "stdout",
     "output_type": "stream",
     "text": [
      "[0.9525222551928784, 0.827893175074184, 0.9347181008902077, 0.7833827893175074, 0.8545994065281899]\n",
      "[0.9614243323442137, 0.973293768545994, 0.9584569732937686, 0.9495548961424333, 0.9584569732937686]\n"
     ]
    }
   ],
   "source": [
    "print(accuracy_scores)\n",
    "print(baseline_scores)"
   ]
  },
  {
   "cell_type": "code",
   "execution_count": null,
   "metadata": {},
   "outputs": [],
   "source": []
  }
 ],
 "metadata": {
  "kernelspec": {
   "display_name": "venv",
   "language": "python",
   "name": "python3"
  },
  "language_info": {
   "codemirror_mode": {
    "name": "ipython",
    "version": 3
   },
   "file_extension": ".py",
   "mimetype": "text/x-python",
   "name": "python",
   "nbconvert_exporter": "python",
   "pygments_lexer": "ipython3",
   "version": "3.9.16"
  },
  "orig_nbformat": 4
 },
 "nbformat": 4,
 "nbformat_minor": 2
}

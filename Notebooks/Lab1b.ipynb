{
 "cells": [
  {
   "cell_type": "markdown",
   "metadata": {},
   "source": [
    "# Lab 1: transformations and pipelines in Scikit-Learn Part II:\n",
    "## This time it's personal"
   ]
  },
  {
   "cell_type": "markdown",
   "metadata": {},
   "source": [
    "So that was a nice little toy dataset. Now we're going to look at some real data. And it's not pretty...\n",
    "\n",
    "Things are going to get so bloated in our notebook, that we'll begin to make the transition to `.py` files."
   ]
  },
  {
   "cell_type": "markdown",
   "metadata": {},
   "source": []
  }
 ],
 "metadata": {
  "language_info": {
   "name": "python"
  },
  "orig_nbformat": 4
 },
 "nbformat": 4,
 "nbformat_minor": 2
}

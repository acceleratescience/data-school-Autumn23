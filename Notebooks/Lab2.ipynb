{
 "cells": [
  {
   "cell_type": "markdown",
   "metadata": {},
   "source": [
    "# Lab 2 - Pattern recognition with memristive networks"
   ]
  },
  {
   "cell_type": "markdown",
   "metadata": {},
   "source": [
    "In this lab, we will work through an end-to-end example using a random network of memristors. Essentially this network is a bunch of $N$ randomly connected resistive switches that act like little mini neurons. We apply a current to a single element, and read the current from $M$ readout elements. The network acts as a complex dynamical system that nonlinearly transforms the input signals into a higher dimensional feature space so that they might be more linearly separable. We then perform regression on the readouts.\n",
    "\n",
    "This example might closely follow a project that some of you might be working on, where you are running simulations, performing some machine learning, all the while collecting other data."
   ]
  },
  {
   "cell_type": "code",
   "execution_count": 1,
   "metadata": {},
   "outputs": [],
   "source": [
    "from reservoir import MemristorSim\n",
    "import numpy as np\n",
    "import matplotlib.pyplot as plt\n",
    "import networkx as nx\n",
    "\n",
    "from seeds import set_all_seeds\n",
    "\n",
    "set_all_seeds(0)"
   ]
  },
  {
   "cell_type": "code",
   "execution_count": 2,
   "metadata": {},
   "outputs": [
    {
     "name": "stdout",
     "output_type": "stream",
     "text": [
      "Connected network found\n"
     ]
    },
    {
     "data": {
      "image/png": "[encoded data removed]",
      "text/plain": [
       "<Figure size 640x480 with 1 Axes>"
      ]
     },
     "metadata": {},
     "output_type": "display_data"
    }
   ],
   "source": [
    "# Create random connectivity matrix with 10 nodes\n",
    "def create_adjacency_matrix(shape=10):\n",
    "    while True:\n",
    "        try:\n",
    "            W = np.random.randint(0,2, (shape,shape))\n",
    "            W ^= W.T\n",
    "            if nx.is_connected(nx.from_numpy_array(W)) == True:\n",
    "                print(\"Connected network found\")\n",
    "                return W\n",
    "        except:\n",
    "            \"Disconnected network, trying again...\"\n",
    "\n",
    "\n",
    "plt.imshow(W, 'Greys')\n",
    "plt.show()"
   ]
  },
  {
   "cell_type": "code",
   "execution_count": 4,
   "metadata": {},
   "outputs": [
    {
     "data": {
      "text/plain": [
       "(400, 1)"
      ]
     },
     "execution_count": 4,
     "metadata": {},
     "output_type": "execute_result"
    }
   ],
   "source": [
    "simParams = {\n",
    "            'MU': 3.46e-5,\n",
    "            'KAPPA': 0.038,\n",
    "            'R_ON': 13e3,\n",
    "            'R_OFF': 13e3 / 1e-2,\n",
    "            'z_0': 0.05,\n",
    "            'dist': 'normal',\n",
    "            'var': 0,\n",
    "            'NOISE': 0.0,\n",
    "            'THETA': 10\n",
    "        }\n",
    "\n",
    "Vext = np.concatenate([np.ones((200,1)), 0.01*np.ones((200,1))])*0.1\n",
    "Vext.shape"
   ]
  },
  {
   "cell_type": "code",
   "execution_count": 5,
   "metadata": {},
   "outputs": [],
   "source": [
    "sim3d = MemristorSim(W, simParams)\n",
    "output = sim3d.applyVoltage(Vext,\n",
    "                                                                        1,\n",
    "                                                                        np.arange(0, len(Vext), 1),\n",
    "                                                                        inputs=1,\n",
    "                                                                        outputs=3,\n",
    "                                                                        percolate=False)"
   ]
  },
  {
   "cell_type": "code",
   "execution_count": 6,
   "metadata": {},
   "outputs": [
    {
     "data": {
      "text/plain": [
       "[<matplotlib.lines.Line2D at 0x12fc6d340>,\n",
       " <matplotlib.lines.Line2D at 0x12fc6d3a0>,\n",
       " <matplotlib.lines.Line2D at 0x12fc6d3d0>]"
      ]
     },
     "execution_count": 6,
     "metadata": {},
     "output_type": "execute_result"
    },
    {
     "data": {
      "image/png": "[encoded data removed]",
      "text/plain": [
       "<Figure size 640x480 with 1 Axes>"
      ]
     },
     "metadata": {},
     "output_type": "display_data"
    }
   ],
   "source": [
    "import matplotlib.pyplot as plt\n",
    "plt.plot(output[0][1:,:])"
   ]
  },
  {
   "cell_type": "code",
   "execution_count": 45,
   "metadata": {},
   "outputs": [
    {
     "name": "stdout",
     "output_type": "stream",
     "text": [
      "\t ----- timestep = 100\n",
      "\t ----- timestep = 200\n",
      "\t ----- timestep = 300\n",
      "\t ----- timestep = 400\n",
      "\t ----- timestep = 500\n",
      "\t ----- timestep = 600\n",
      "\t ----- timestep = 700\n",
      "\t ----- timestep = 800\n",
      "\t ----- timestep = 900\n",
      "\t ----- timestep = 1000\n",
      "\t ----- timestep = 1100\n"
     ]
    }
   ],
   "source": [
    "states = memres.simulate(Vext)"
   ]
  },
  {
   "cell_type": "code",
   "execution_count": 40,
   "metadata": {},
   "outputs": [
    {
     "data": {
      "text/plain": [
       "(1000, 100)"
      ]
     },
     "execution_count": 40,
     "metadata": {},
     "output_type": "execute_result"
    }
   ],
   "source": [
    "states.shape"
   ]
  },
  {
   "cell_type": "code",
   "execution_count": 32,
   "metadata": {},
   "outputs": [],
   "source": []
  },
  {
   "cell_type": "code",
   "execution_count": 46,
   "metadata": {},
   "outputs": [
    {
     "data": {
      "text/plain": [
       "[<matplotlib.lines.Line2D at 0x125331c40>,\n",
       " <matplotlib.lines.Line2D at 0x125617a60>,\n",
       " <matplotlib.lines.Line2D at 0x125425c40>,\n",
       " <matplotlib.lines.Line2D at 0x12543c070>,\n",
       " <matplotlib.lines.Line2D at 0x124fd1040>,\n",
       " <matplotlib.lines.Line2D at 0x12548a2b0>,\n",
       " <matplotlib.lines.Line2D at 0x1256179d0>,\n",
       " <matplotlib.lines.Line2D at 0x125617c40>,\n",
       " <matplotlib.lines.Line2D at 0x125617d30>,\n",
       " <matplotlib.lines.Line2D at 0x125617e20>,\n",
       " <matplotlib.lines.Line2D at 0x12527ffa0>,\n",
       " <matplotlib.lines.Line2D at 0x125617fd0>,\n",
       " <matplotlib.lines.Line2D at 0x12567a100>,\n",
       " <matplotlib.lines.Line2D at 0x12567a1f0>,\n",
       " <matplotlib.lines.Line2D at 0x12567a2e0>,\n",
       " <matplotlib.lines.Line2D at 0x12567a3d0>,\n",
       " <matplotlib.lines.Line2D at 0x12567a4c0>,\n",
       " <matplotlib.lines.Line2D at 0x12567a5b0>,\n",
       " <matplotlib.lines.Line2D at 0x12567a6a0>,\n",
       " <matplotlib.lines.Line2D at 0x12567a790>,\n",
       " <matplotlib.lines.Line2D at 0x12567a880>,\n",
       " <matplotlib.lines.Line2D at 0x12567a970>,\n",
       " <matplotlib.lines.Line2D at 0x12567aa60>,\n",
       " <matplotlib.lines.Line2D at 0x12567ab50>,\n",
       " <matplotlib.lines.Line2D at 0x12567ac40>,\n",
       " <matplotlib.lines.Line2D at 0x12567ad30>,\n",
       " <matplotlib.lines.Line2D at 0x12567ae20>,\n",
       " <matplotlib.lines.Line2D at 0x12567af10>,\n",
       " <matplotlib.lines.Line2D at 0x12564d040>,\n",
       " <matplotlib.lines.Line2D at 0x12564d130>,\n",
       " <matplotlib.lines.Line2D at 0x12564d220>,\n",
       " <matplotlib.lines.Line2D at 0x12564d310>,\n",
       " <matplotlib.lines.Line2D at 0x12564d400>,\n",
       " <matplotlib.lines.Line2D at 0x12564d4f0>,\n",
       " <matplotlib.lines.Line2D at 0x12564d5e0>,\n",
       " <matplotlib.lines.Line2D at 0x12564d6d0>,\n",
       " <matplotlib.lines.Line2D at 0x1255fcb80>,\n",
       " <matplotlib.lines.Line2D at 0x125455b80>,\n",
       " <matplotlib.lines.Line2D at 0x12564d790>,\n",
       " <matplotlib.lines.Line2D at 0x12564d880>,\n",
       " <matplotlib.lines.Line2D at 0x12564d970>,\n",
       " <matplotlib.lines.Line2D at 0x12564da60>,\n",
       " <matplotlib.lines.Line2D at 0x12564db50>,\n",
       " <matplotlib.lines.Line2D at 0x12564dc40>,\n",
       " <matplotlib.lines.Line2D at 0x12564dd30>,\n",
       " <matplotlib.lines.Line2D at 0x12564de20>,\n",
       " <matplotlib.lines.Line2D at 0x12564df10>,\n",
       " <matplotlib.lines.Line2D at 0x125669040>,\n",
       " <matplotlib.lines.Line2D at 0x125669130>,\n",
       " <matplotlib.lines.Line2D at 0x125669220>,\n",
       " <matplotlib.lines.Line2D at 0x125669310>,\n",
       " <matplotlib.lines.Line2D at 0x125669400>,\n",
       " <matplotlib.lines.Line2D at 0x1256694f0>,\n",
       " <matplotlib.lines.Line2D at 0x1256695e0>,\n",
       " <matplotlib.lines.Line2D at 0x1256696d0>,\n",
       " <matplotlib.lines.Line2D at 0x1256697c0>,\n",
       " <matplotlib.lines.Line2D at 0x1256698b0>,\n",
       " <matplotlib.lines.Line2D at 0x1256699a0>,\n",
       " <matplotlib.lines.Line2D at 0x125669a90>,\n",
       " <matplotlib.lines.Line2D at 0x125669b80>,\n",
       " <matplotlib.lines.Line2D at 0x125669c70>,\n",
       " <matplotlib.lines.Line2D at 0x125669d60>,\n",
       " <matplotlib.lines.Line2D at 0x125669e50>,\n",
       " <matplotlib.lines.Line2D at 0x125669f40>,\n",
       " <matplotlib.lines.Line2D at 0x125679070>,\n",
       " <matplotlib.lines.Line2D at 0x125679160>,\n",
       " <matplotlib.lines.Line2D at 0x125679250>,\n",
       " <matplotlib.lines.Line2D at 0x125679340>,\n",
       " <matplotlib.lines.Line2D at 0x125679430>,\n",
       " <matplotlib.lines.Line2D at 0x125679520>,\n",
       " <matplotlib.lines.Line2D at 0x125679610>,\n",
       " <matplotlib.lines.Line2D at 0x125679700>,\n",
       " <matplotlib.lines.Line2D at 0x1256797f0>,\n",
       " <matplotlib.lines.Line2D at 0x1256798e0>,\n",
       " <matplotlib.lines.Line2D at 0x1256799d0>,\n",
       " <matplotlib.lines.Line2D at 0x125679ac0>,\n",
       " <matplotlib.lines.Line2D at 0x125679bb0>,\n",
       " <matplotlib.lines.Line2D at 0x125679ca0>,\n",
       " <matplotlib.lines.Line2D at 0x125679d90>,\n",
       " <matplotlib.lines.Line2D at 0x125679e80>,\n",
       " <matplotlib.lines.Line2D at 0x125679f70>,\n",
       " <matplotlib.lines.Line2D at 0x1256510a0>,\n",
       " <matplotlib.lines.Line2D at 0x125651190>,\n",
       " <matplotlib.lines.Line2D at 0x125651280>,\n",
       " <matplotlib.lines.Line2D at 0x125651370>,\n",
       " <matplotlib.lines.Line2D at 0x125651460>,\n",
       " <matplotlib.lines.Line2D at 0x125651550>,\n",
       " <matplotlib.lines.Line2D at 0x125651640>,\n",
       " <matplotlib.lines.Line2D at 0x125651730>,\n",
       " <matplotlib.lines.Line2D at 0x125651820>,\n",
       " <matplotlib.lines.Line2D at 0x125651910>,\n",
       " <matplotlib.lines.Line2D at 0x125651a00>,\n",
       " <matplotlib.lines.Line2D at 0x125651af0>,\n",
       " <matplotlib.lines.Line2D at 0x125651be0>,\n",
       " <matplotlib.lines.Line2D at 0x125651cd0>,\n",
       " <matplotlib.lines.Line2D at 0x125651dc0>,\n",
       " <matplotlib.lines.Line2D at 0x125651eb0>,\n",
       " <matplotlib.lines.Line2D at 0x125651fa0>]"
      ]
     },
     "execution_count": 46,
     "metadata": {},
     "output_type": "execute_result"
    },
    {
     "data": {
      "image/png": "[encoded data removed]",
      "text/plain": [
       "<Figure size 640x480 with 1 Axes>"
      ]
     },
     "metadata": {},
     "output_type": "display_data"
    }
   ],
   "source": [
    "plt.plot(states[:,1:99], lw=0.5)"
   ]
  },
  {
   "cell_type": "code",
   "execution_count": null,
   "metadata": {},
   "outputs": [],
   "source": []
  }
 ],
 "metadata": {
  "kernelspec": {
   "display_name": "venv",
   "language": "python",
   "name": "python3"
  },
  "language_info": {
   "codemirror_mode": {
    "name": "ipython",
    "version": 3
   },
   "file_extension": ".py",
   "mimetype": "text/x-python",
   "name": "python",
   "nbconvert_exporter": "python",
   "pygments_lexer": "ipython3",
   "version": "3.9.16"
  },
  "orig_nbformat": 4
 },
 "nbformat": 4,
 "nbformat_minor": 2
}
